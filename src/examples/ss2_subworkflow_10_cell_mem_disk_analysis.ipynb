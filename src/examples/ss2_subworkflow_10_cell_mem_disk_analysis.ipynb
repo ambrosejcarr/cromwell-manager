{
 "cells": [
  {
   "cell_type": "markdown",
   "metadata": {
    "deletable": true,
    "editable": true
   },
   "source": [
    "# Demo Cromwell+IPython & Cost Analysis"
   ]
  },
  {
   "cell_type": "markdown",
   "metadata": {
    "deletable": true,
    "editable": true
   },
   "source": [
    "Get a wdl and inputs that use a subworkflow and examine the capabilities of the tool to extract/obtain subworkflow metadata."
   ]
  },
  {
   "cell_type": "markdown",
   "metadata": {
    "deletable": true,
    "editable": true
   },
   "source": [
    "## Imports"
   ]
  },
  {
   "cell_type": "code",
   "execution_count": 1,
   "metadata": {
    "collapsed": false,
    "deletable": true,
    "editable": true
   },
   "outputs": [],
   "source": [
    "# for workflow management\n",
    "import json\n",
    "import os\n",
    "from google.cloud import storage\n",
    "import cromwell_manager as cwm\n",
    "\n",
    "with open(os.path.expanduser('~/.ssh/mint_cromwell_config.json')) as f:\n",
    "    cromwell_server = cwm.Cromwell(**json.load(f))\n",
    "\n",
    "storage_client = storage.Client(project='broad-dsde-mint-dev')"
   ]
  },
  {
   "cell_type": "code",
   "execution_count": 23,
   "metadata": {
    "collapsed": true,
    "deletable": true,
    "editable": true
   },
   "outputs": [],
   "source": [
    "# parsing & plotting, later\n",
    "import pandas as pd\n",
    "import numpy as np\n",
    "import matplotlib.pyplot as plt\n",
    "from collections import defaultdict\n",
    "%matplotlib inline"
   ]
  },
  {
   "cell_type": "markdown",
   "metadata": {
    "deletable": true,
    "editable": true
   },
   "source": [
    "## Define a simple SS2 run\n",
    "Define the input files for the workflow submission, submit, and store the submission pattern in one place - accepts as input: \n",
    "\n",
    "1. local files\n",
    "2. gs files\n",
    "3. https links\n",
    "4. dictionaries/json (when appropriate)"
   ]
  },
  {
   "cell_type": "code",
   "execution_count": 85,
   "metadata": {
    "collapsed": true,
    "deletable": true,
    "editable": true
   },
   "outputs": [],
   "source": [
    "workflow_root = 'https://raw.githubusercontent.com/HumanCellAtlas/skylab/master/smartseq2_single_sample/run_multi_samples/'\n",
    "\n",
    "wdl = workflow_root + 'ss2_multi_sample_wf.wdl'\n",
    "inputs = workflow_root + 'ss2_multi_sample_wf_demo.json'\n",
    "\n",
    "# define our workflow options as a dict; we can pass this to the Workflow constructor\n",
    "options_json = {\n",
    "  \"monitoring_script\": \"gs://broad-dsde-mint-dev-teststorage/10x/benchmark/scripts/monitor.sh\",\n",
    "  \"read_from_cache\": False,\n",
    "  \"write_to_cache\": False\n",
    "}\n",
    "\n",
    "# also easier to pass dependencies this way, cwm.Cromwell will zip this for us.\n",
    "dependencies = {\n",
    "    'ss2_single_sample_wf.wdl': workflow_root + 'ss2_single_sample_wf.wdl'\n",
    "}"
   ]
  },
  {
   "cell_type": "code",
   "execution_count": 86,
   "metadata": {
    "collapsed": false,
    "deletable": true,
    "editable": true
   },
   "outputs": [],
   "source": [
    "# create the workflow and submit it\n",
    "ss2_workflow = cwm.Workflow.from_submission(\n",
    "    wdl=wdl, inputs_json=inputs, cromwell_server=cromwell_server, \n",
    "    storage_client=storage_client, workflow_dependencies=dependencies, options_json=options_json)"
   ]
  },
  {
   "cell_type": "code",
   "execution_count": 87,
   "metadata": {
    "collapsed": false,
    "deletable": true,
    "editable": true
   },
   "outputs": [
    {
     "data": {
      "text/plain": [
       "{'id': '59db621a-1161-4063-a92d-aa6b5345fcae', 'status': 'Submitted'}"
      ]
     },
     "execution_count": 87,
     "metadata": {},
     "output_type": "execute_result"
    }
   ],
   "source": [
    "ss2_workflow.status"
   ]
  },
  {
   "cell_type": "code",
   "execution_count": null,
   "metadata": {
    "collapsed": true,
    "deletable": true,
    "editable": true
   },
   "outputs": [],
   "source": [
    "# wait for it to finish (will take a few minutes)\n",
    "# ss2_workflow.wait_until_complete()"
   ]
  },
  {
   "cell_type": "markdown",
   "metadata": {
    "deletable": true,
    "editable": true
   },
   "source": [
    "## Run an input with 10 cells"
   ]
  },
  {
   "cell_type": "code",
   "execution_count": 53,
   "metadata": {
    "collapsed": true,
    "deletable": true,
    "editable": true
   },
   "outputs": [],
   "source": [
    "ten_sample_input = {\n",
    "  \"Ss2RunMultiSample.ref_fasta\": \"gs://broad-dsde-mint-dev-teststorage/reference/hg19/Homo_sapiens_assembly19.fasta\",\n",
    "  \"Ss2RunMultiSample.rsem_genome\": \"gs://broad-dsde-mint-dev-teststorage/reference/hg19/rsem.tar\",\n",
    "  \"Ss2RunMultiSample.ref_flat\": \"gs://broad-dsde-mint-dev-teststorage/reference/hg19/Homo_sapiens_assembly19.refFlat\",\n",
    "  \"Ss2RunMultiSample.sra_dir\": \"gs://broad-dsde-mint-dev-teststorage/patel_ap\",\n",
    "  \"Ss2RunMultiSample.star_genome\": \"gs://broad-dsde-mint-dev-teststorage/reference/hg19/star.tar\",\n",
    "  \"Ss2RunMultiSample.sra_list_file\": \"gs://broad-dsde-mint-dev-teststorage/patel_ap/SRR_Acc_List_1_10.txt\",  # changed this\n",
    "  \"Ss2RunMultiSample.rrna_interval\": \"gs://broad-dsde-mint-dev-teststorage/reference/hg19/Homo_sapiens_assembly19.rRNA.interval_list\",\n",
    "  \"Ss2RunMultiSample.gtf\": \"gs://broad-dsde-mint-dev-teststorage/reference/hg19/gencode.v19.annotation.gtf\"\n",
    "}"
   ]
  },
  {
   "cell_type": "code",
   "execution_count": 54,
   "metadata": {
    "collapsed": false,
    "deletable": true,
    "editable": true
   },
   "outputs": [],
   "source": [
    "# create the workflow and submit it\n",
    "ss2_10cells_workflow = cwm.Workflow.from_submission(\n",
    "    wdl=wdl, inputs_json=ten_sample_input, cromwell_server=cromwell_server, \n",
    "    storage_client=storage_client, workflow_dependencies=dependencies, options_json=options_json)"
   ]
  },
  {
   "cell_type": "code",
   "execution_count": 58,
   "metadata": {
    "collapsed": false,
    "deletable": true,
    "editable": true
   },
   "outputs": [
    {
     "data": {
      "text/plain": [
       "{'id': 'c427b1dd-7f9a-4bad-9726-c21fc938591f', 'status': 'Succeeded'}"
      ]
     },
     "execution_count": 58,
     "metadata": {},
     "output_type": "execute_result"
    }
   ],
   "source": [
    "ss2_10cells_workflow.status"
   ]
  },
  {
   "cell_type": "code",
   "execution_count": 88,
   "metadata": {
    "collapsed": true,
    "deletable": true,
    "editable": true
   },
   "outputs": [],
   "source": [
    "ss2_10cells_workflow.timing()"
   ]
  },
  {
   "cell_type": "markdown",
   "metadata": {
    "deletable": true,
    "editable": true
   },
   "source": [
    "## Pick up from pre-run workflow"
   ]
  },
  {
   "cell_type": "markdown",
   "metadata": {
    "deletable": true,
    "editable": true
   },
   "source": [
    "Alternatively, workflows can be generated from cromwell IDs to look at pre-run workflows"
   ]
  },
  {
   "cell_type": "code",
   "execution_count": 89,
   "metadata": {
    "collapsed": true,
    "deletable": true,
    "editable": true
   },
   "outputs": [],
   "source": [
    "ss2_10cells_workflow = cwm.Workflow('c427b1dd-7f9a-4bad-9726-c21fc938591f', cromwell_server=cromwell_server, storage_client=storage_client)"
   ]
  },
  {
   "cell_type": "markdown",
   "metadata": {
    "deletable": true,
    "editable": true
   },
   "source": [
    "## Examine the Inputs\n",
    "\n",
    "This workflow has ten cells. What are they?"
   ]
  },
  {
   "cell_type": "code",
   "execution_count": 90,
   "metadata": {
    "collapsed": false,
    "deletable": true,
    "editable": true
   },
   "outputs": [
    {
     "data": {
      "text/plain": [
       "['{',\n",
       " '  \"Ss2RunMultiSample.sra_list_file\": \"gs://broad-dsde-mint-dev-teststorage/demo/sra_list.txt\",',\n",
       " '  \"Ss2RunMultiSample.sra_dir\": \"gs://broad-dsde-mint-dev-teststorage/demo\",',\n",
       " '  \"Ss2RunMultiSample.gtf\": \"gs://broad-dsde-mint-dev-teststorage/demo/gencodev19_chr21.gtf\",',\n",
       " '  \"Ss2RunMultiSample.ref_fasta\": \"gs://broad-dsde-mint-dev-teststorage/demo/chr21.fa\",',\n",
       " '  \"Ss2RunMultiSample.ref_flat\": \"gs://broad-dsde-mint-dev-teststorage/demo/refFlat.chr21.txt\",',\n",
       " '  \"Ss2RunMultiSample.rrna_interval\": \"gs://broad-dsde-mint-dev-teststorage/demo/hg19.chr21.rRNA.interval_list\",',\n",
       " '  \"Ss2RunMultiSample.star_genome\": \"gs://broad-dsde-mint-dev-teststorage/demo/star.tar\",',\n",
       " '  \"Ss2RunMultiSample.rsem_genome\": \"gs://broad-dsde-mint-dev-teststorage/demo/rsem.tar\"',\n",
       " '}',\n",
       " '']"
      ]
     },
     "execution_count": 90,
     "metadata": {},
     "output_type": "execute_result"
    }
   ],
   "source": [
    "# download and print the input file\n",
    "cwm.io_util.HTTPObject(inputs).download_as_string().split('\\n')"
   ]
  },
  {
   "cell_type": "code",
   "execution_count": 91,
   "metadata": {
    "collapsed": false,
    "deletable": true,
    "editable": true
   },
   "outputs": [
    {
     "data": {
      "text/plain": [
       "['SRR1294536',\n",
       " 'SRR1294537',\n",
       " 'SRR1294538',\n",
       " 'SRR1294539',\n",
       " 'SRR1294540',\n",
       " 'SRR1294541',\n",
       " 'SRR1294542',\n",
       " 'SRR1294543',\n",
       " 'SRR1294544',\n",
       " 'SRR1294545',\n",
       " '']"
      ]
     },
     "execution_count": 91,
     "metadata": {},
     "output_type": "execute_result"
    }
   ],
   "source": [
    "# download and cat the input list from the above file\n",
    "cwm.io_util.GSObject('gs://broad-dsde-mint-dev-teststorage/patel_ap/SRR_Acc_List_1_10.txt').download_as_string().split('\\n')"
   ]
  },
  {
   "cell_type": "markdown",
   "metadata": {
    "deletable": true,
    "editable": true
   },
   "source": [
    "Cool, so we can look at variation in memory and disk utilization"
   ]
  },
  {
   "cell_type": "markdown",
   "metadata": {
    "deletable": true,
    "editable": true
   },
   "source": [
    "## Examine the workflow's memory and disk usage\n",
    "\n",
    "This workflow contains a gather task `collect_all` and a subworkflow that's scattered across cells, `single_run`. Here we have ten cells, and thus ten subworkflows. "
   ]
  },
  {
   "cell_type": "code",
   "execution_count": 92,
   "metadata": {
    "collapsed": false,
    "deletable": true,
    "editable": true
   },
   "outputs": [
    {
     "data": {
      "text/plain": [
       "{'Ss2RunMultiSample.collect_all': <CalledTask: Ss2RunMultiSample.collect_all, 1 shard(s)>,\n",
       " 'Ss2RunMultiSample.single_run': [<SubWorkflow: 28e5f1aa-6e53-4179-808d-5066c66e2eb4>,\n",
       "  <SubWorkflow: 674caac3-adba-4046-9441-6383081b3b35>,\n",
       "  <SubWorkflow: 0a34f78c-3794-4953-8958-a14ef4442a00>,\n",
       "  <SubWorkflow: 1505547d-730a-449f-97ec-f8b912de6f5a>,\n",
       "  <SubWorkflow: def7e638-f495-481c-b8af-6bdd1f2e4b1d>,\n",
       "  <SubWorkflow: f53728fd-405a-48e7-8a42-6b3bc07b7c52>,\n",
       "  <SubWorkflow: ce93229f-75b8-48ed-ac19-a96e6cb35459>,\n",
       "  <SubWorkflow: f1b6bd26-d63c-434e-a7bc-84882532c6c3>,\n",
       "  <SubWorkflow: fefd3dd2-6fb2-4fc0-a954-e4f77aa79744>,\n",
       "  <SubWorkflow: 542a7c1d-84a1-45d6-aec8-ed1245fffbcf>]}"
      ]
     },
     "execution_count": 92,
     "metadata": {},
     "output_type": "execute_result"
    }
   ],
   "source": [
    "ss2_10cells_workflow.tasks"
   ]
  },
  {
   "cell_type": "markdown",
   "metadata": {
    "deletable": true,
    "editable": true
   },
   "source": [
    "Here's what the resource utilization looks like for the gather task:"
   ]
  },
  {
   "cell_type": "code",
   "execution_count": 94,
   "metadata": {
    "collapsed": false,
    "deletable": true,
    "editable": true
   },
   "outputs": [
    {
     "name": "stdout",
     "output_type": "stream",
     "text": [
      "GatherMetricsToTable Monitoring Summary:\n",
      "Max Memory Usage (MB): 1811\n",
      "Available Memory (MB): 3704\n",
      "Max disk usage   (KB): 23272\n",
      "Available disk   (KB): 10190136\n",
      "Disk Utilized     (%): 0.002\n",
      "Memory Utilized   (%): 0.489\n",
      "Robust Estimate?     : True\n",
      "\n"
     ]
    }
   ],
   "source": [
    "print(ss2_10cells_workflow.tasks['Ss2RunMultiSample.collect_all'].resource_utilization)"
   ]
  },
  {
   "cell_type": "markdown",
   "metadata": {
    "deletable": true,
    "editable": true
   },
   "source": [
    "Below I parse out the memory and disk allocation and usage for all the scattered tasks. I'll find a cleaner way of doing this later. "
   ]
  },
  {
   "cell_type": "code",
   "execution_count": 105,
   "metadata": {
    "collapsed": false,
    "deletable": true,
    "editable": true
   },
   "outputs": [],
   "source": [
    "max_memory = defaultdict(list)\n",
    "available_memory = defaultdict(list)\n",
    "max_disk = defaultdict(list)\n",
    "available_disk = defaultdict(list)\n",
    "\n",
    "def extract_info(task):\n",
    "    \"\"\"awful little side-effecting function to fill dictionaries\"\"\"\n",
    "    ru = task.resource_utilization\n",
    "    max_memory[task.name].append(ru.max_memory)\n",
    "    max_disk[task.name].append(ru.max_disk)\n",
    "    available_memory[task.name].append(ru.total_memory)\n",
    "    available_disk[task.name].append(ru.total_disk)\n",
    "\n",
    "for subworkflow in ss2_10cells_workflow.tasks['Ss2RunMultiSample.single_run']:\n",
    "    for name, task in subworkflow.tasks.items():\n",
    "        extract_info(task)\n",
    "\n",
    "mean_max_memory = {key: np.max(val) for key, val in max_memory.items()}\n",
    "var_max_memory = {key: np.std(val) for key, val in max_memory.items()}\n",
    "mean_max_disk = {key: np.maxhttps://groups.google.com/a/openwdl.org/forum/#!forum/community(val) for key, val in max_disk.items()}\n",
    "var_max_disk = {key: np.std(val) for key, val in max_disk.items()}\n",
    "available_memory = {key: np.mean(val) for key, val in available_memory.items()}\n",
    "available_disk = {key: np.mean(val) for key, val in available_disk.items()}\n",
    "\n",
    "parsed_data = pd.DataFrame({\n",
    "    'mean_max_memory': mean_max_memory,\n",
    "    'var_max_memory': var_max_memory,\n",
    "    'available_memory': available_memory,\n",
    "    'mean_max_disk': mean_max_disk,\n",
    "    'var_max_disk': var_max_disk,\n",
    "    'available_disk': available_disk\n",
    "    \n",
    "})"
   ]
  },
  {
   "cell_type": "markdown",
   "metadata": {
    "deletable": true,
    "editable": true
   },
   "source": [
    "Now, define a function and display the difference between allocated and utilized memory"
   ]
  },
  {
   "cell_type": "code",
   "execution_count": 96,
   "metadata": {
    "collapsed": false,
    "deletable": true,
    "editable": true
   },
   "outputs": [],
   "source": [
    "def barplot(dataframe, column, label, ax, *args, **kwargs):\n",
    "    ax.bar(left=np.arange(dataframe.shape[0]), height=dataframe[column], *args, **kwargs)\n",
    "    ax.set_xticks(np.arange(dataframe.shape[0]));\n",
    "    ax.set_xticklabels(list(i.replace('singlesample.Ss2RunSingleSample.', '') for i in dataframe.index), rotation=90)\n",
    "    ax.set_xlim((-0.6, dataframe.shape[0] - 0.4));\n",
    "    ax.set_ylabel(label)"
   ]
  },
  {
   "cell_type": "code",
   "execution_count": 97,
   "metadata": {
    "collapsed": false,
    "deletable": true,
    "editable": true
   },
   "outputs": [
    {
     "data": {
      "image/png": "[encoded data removed]",
      "text/plain": [
       "<matplotlib.figure.Figure at 0x113d21d30>"
      ]
     },
     "metadata": {},
     "output_type": "display_data"
    }
   ],
   "source": [
    "f, ax = plt.subplots(figsize=(8, 5))\n",
    "\n",
    "barplot(dataframe=parsed_data, column='available_memory', label='memory (MB)', zorder=0, ax=ax, facecolor='b')\n",
    "barplot(dataframe=parsed_data, column='mean_max_memory', label='memory (MB)', zorder=1, ax=ax, facecolor='r', \n",
    "        yerr=parsed_data['var_max_memory'])\n",
    "plt.title('memory usage (red) vs. allocation (blue) by task');"
   ]
  },
  {
   "cell_type": "markdown",
   "metadata": {
    "deletable": true,
    "editable": true
   },
   "source": [
    "And now allocated vs. utilized disk"
   ]
  },
  {
   "cell_type": "code",
   "execution_count": 83,
   "metadata": {
    "collapsed": false,
    "deletable": true,
    "editable": true
   },
   "outputs": [
    {
     "data": {
      "image/png": "[encoded data removed]",
      "text/plain": [
       "<matplotlib.figure.Figure at 0x112b1f160>"
      ]
     },
     "metadata": {},
     "output_type": "display_data"
    }
   ],
   "source": [
    "f, ax = plt.subplots(figsize=(8, 5))\n",
    "\n",
    "barplot(dataframe=parsed_data, column='available_disk', label='disk (KB)', zorder=0, ax=ax, facecolor='b')\n",
    "barplot(dataframe=parsed_data, column='mean_max_disk', label='disk (KB)', zorder=1, ax=ax, facecolor='r', \n",
    "        yerr=parsed_data['var_max_disk'])\n",
    "\n",
    "plt.title('disk usage (red) vs. allocation (blue) by task');"
   ]
  },
  {
   "cell_type": "code",
   "execution_count": null,
   "metadata": {
    "collapsed": true,
    "deletable": true,
    "editable": true
   },
   "outputs": [],
   "source": []
  }
 ],
 "metadata": {
  "hide_input": false,
  "kernelspec": {
   "display_name": "Python 3",
   "language": "python",
   "name": "python3"
  },
  "language_info": {
   "codemirror_mode": {
    "name": "ipython",
    "version": 3
   },
   "file_extension": ".py",
   "mimetype": "text/x-python",
   "name": "python",
   "nbconvert_exporter": "python",
   "pygments_lexer": "ipython3",
   "version": "3.6.0"
  },
  "toc": {
   "nav_menu": {},
   "number_sections": true,
   "sideBar": true,
   "skip_h1_title": false,
   "toc_cell": false,
   "toc_position": {
    "height": "776px",
    "left": "0px",
    "right": "1301px",
    "top": "106px",
    "width": "379px"
   },
   "toc_section_display": "block",
   "toc_window_display": true
  }
 },
 "nbformat": 4,
 "nbformat_minor": 2
}
