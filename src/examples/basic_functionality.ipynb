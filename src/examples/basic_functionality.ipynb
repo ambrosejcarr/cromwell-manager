{
 "cells": [
  {
   "cell_type": "code",
   "execution_count": 2,
   "metadata": {
    "collapsed": false
   },
   "outputs": [],
   "source": [
    "%load_ext autoreload\n",
    "% autoreload 2"
   ]
  },
  {
   "cell_type": "code",
   "execution_count": 3,
   "metadata": {
    "collapsed": true,
    "deletable": true,
    "editable": true
   },
   "outputs": [],
   "source": [
    "import os\n",
    "import json\n",
    "import cromwell_tools as cwt\n",
    "from google.cloud import storage\n",
    "from IPython import display"
   ]
  },
  {
   "cell_type": "markdown",
   "metadata": {
    "deletable": true,
    "editable": true
   },
   "source": [
    "## Basic Cromwell Tools Functionality\n",
    "\n",
    "This notebook walks through the basic functionality of cromwell_tools. A typical workflow involves defining and running some WDL workflows using a cromwell server. \n",
    "\n",
    "This server can either be a locally running server, in which case you access it from a localhost url, or a web service, which will have its own URL. For the purpose of this demo notebook, we'll assume you're setting up a local server. It also assumes you've set-up and authenticated a version of the google-cloud-sdk and can make a successful call to `google.cloud.storage.Client()`"
   ]
  },
  {
   "cell_type": "markdown",
   "metadata": {
    "deletable": true,
    "editable": true
   },
   "source": [
    "## Set up clients & confirm they're running"
   ]
  },
  {
   "cell_type": "code",
   "execution_count": 4,
   "metadata": {
    "collapsed": false,
    "deletable": true,
    "editable": true
   },
   "outputs": [],
   "source": [
    "# no username and password for localhost. \n",
    "google_project = 'broad-dsde-mint-dev'\n",
    "cromwell_url = 'http://localhost:6361'\n",
    "\n",
    "local_config = {'cromwell_url': cromwell_url}\n",
    "cromwell = cwt.Cromwell(**local_config)"
   ]
  },
  {
   "cell_type": "markdown",
   "metadata": {},
   "source": [
    "The constructor for `Cromwell` confirms that you've specified a properly identified server. However you can re-run this check with `Cromwell.server_is_running()`. This can also help debug rare cases where your server shuts down mid-workflow. "
   ]
  },
  {
   "cell_type": "code",
   "execution_count": 5,
   "metadata": {
    "collapsed": false
   },
   "outputs": [
    {
     "data": {
      "text/plain": [
       "True"
      ]
     },
     "execution_count": 5,
     "metadata": {},
     "output_type": "execute_result"
    }
   ],
   "source": [
    "cromwell.server_is_running()"
   ]
  },
  {
   "cell_type": "code",
   "execution_count": 6,
   "metadata": {
    "collapsed": false,
    "deletable": true,
    "editable": true
   },
   "outputs": [
    {
     "name": "stdout",
     "output_type": "stream",
     "text": [
      "[<Bucket: artifacts.broad-dsde-mint-dev.appspot.com>, <Bucket: broad-dsde-mint-dev>]\n"
     ]
    }
   ],
   "source": [
    "# confirm client is properly authenticated by listing the buckets\n",
    "client = storage.Client(project=google_project)\n",
    "buckets = list(client.list_buckets())\n",
    "print(buckets[:2]) # just list the first two"
   ]
  },
  {
   "cell_type": "markdown",
   "metadata": {
    "deletable": true,
    "editable": true
   },
   "source": [
    "## Define an example workflow\n",
    "\n",
    "Cromwell is set up to accept local files, google storage endpoints, and http or https endpoints for its inputs. To demonstrate the https capabilities, this demo will pull the files directly from the `cromwell_tools` git repository. We'll download a WDL file that runs a testing workflow that spins up an inexpensive google instance and sleeps for 15 seconds. We will attach a monitoring script to it so we can see how the memory and disk usage fluctuates across the run. "
   ]
  },
  {
   "cell_type": "code",
   "execution_count": 125,
   "metadata": {
    "collapsed": false,
    "deletable": true,
    "editable": true
   },
   "outputs": [
    {
     "name": "stdout",
     "output_type": "stream",
     "text": [
      "10x_count.wdl                example_monitoring.log\r\n",
      "10x_count_inputs.json        options.json\r\n",
      "10x_count_inputs_1e4.json    secrets.json\r\n",
      "10x_count_inputs_1e5.json    testing.wdl\r\n",
      "10x_count_inputs_1e6.json    testing_example_inputs.json\r\n",
      "10x_count_inputs_1e7.json    \u001b[34mutilizations\u001b[m\u001b[m/\r\n",
      "example_metadata.json\r\n"
     ]
    }
   ],
   "source": [
    "ls ${HOME}/projects/cromwell_tools/src/cromwell_tools/test/data/"
   ]
  },
  {
   "cell_type": "code",
   "execution_count": 14,
   "metadata": {
    "collapsed": true,
    "deletable": true,
    "editable": true
   },
   "outputs": [],
   "source": [
    "data_dir = os.path.expanduser('~/projects/cromwell_tools/src/cromwell_tools/test/data/')\n",
    "wdl = data_dir + 'testing.wdl'\n",
    "inputs = data_dir + 'testing_example_inputs.json'\n",
    "options = data_dir + 'options.json'"
   ]
  },
  {
   "cell_type": "markdown",
   "metadata": {
    "deletable": true,
    "editable": true
   },
   "source": [
    "We can visualize each of these modules because they're very simple. The inputs file provides a single input, the amount of time to sleep. The options file provides the monitoring script and turns off call caching to make sure the submission provokes a fresh run. Finally, the WDL defines a task that takes the time input and sleeps for that amount of time. "
   ]
  },
  {
   "cell_type": "code",
   "execution_count": 19,
   "metadata": {
    "collapsed": false,
    "deletable": true,
    "editable": true
   },
   "outputs": [
    {
     "name": "stdout",
     "output_type": "stream",
     "text": [
      "{\r\n",
      "  \"Sleep.time\": 15\r\n",
      "}\r\n"
     ]
    }
   ],
   "source": [
    "!cat $inputs"
   ]
  },
  {
   "cell_type": "code",
   "execution_count": 20,
   "metadata": {
    "collapsed": false,
    "deletable": true,
    "editable": true
   },
   "outputs": [
    {
     "name": "stdout",
     "output_type": "stream",
     "text": [
      "{\r\n",
      "  \"monitoring_script\": \"gs://broad-dsde-mint-dev-teststorage/10x/benchmark/scripts/monitor.sh\",\r\n",
      "  \"read_from_cache\":false,\r\n",
      "  \"write_to_cache\":false\r\n",
      "}"
     ]
    }
   ],
   "source": [
    "!cat $options"
   ]
  },
  {
   "cell_type": "code",
   "execution_count": 21,
   "metadata": {
    "collapsed": false,
    "deletable": true,
    "editable": true
   },
   "outputs": [
    {
     "name": "stdout",
     "output_type": "stream",
     "text": [
      "\r\n",
      "task SleepAWhile {\r\n",
      "  Int time\r\n",
      "\r\n",
      "  command {\r\n",
      "    lsblk\r\n",
      "    df -k\r\n",
      "    sleep ${time}\r\n",
      "    echo \"something\"\r\n",
      "  }\r\n",
      "\r\n",
      "  runtime {\r\n",
      "    cpu: \"1\"\r\n",
      "    docker: \"ubuntu:zesty\"\r\n",
      "    memory: \"1 GB\"\r\n",
      "    disks: \"local-disk 10 HDD\"\r\n",
      "  }\r\n",
      "}\r\n",
      "\r\n",
      "workflow Sleep {\r\n",
      "  Int time\r\n",
      "\r\n",
      "  call SleepAWhile {\r\n",
      "    input:\r\n",
      "      time = time\r\n",
      "  }\r\n",
      "}\r\n"
     ]
    }
   ],
   "source": [
    "!cat $wdl"
   ]
  },
  {
   "cell_type": "markdown",
   "metadata": {
    "deletable": true,
    "editable": true
   },
   "source": [
    "## Submit and explore the workflow\n",
    "\n",
    "The Cromwell Tools package defines two main classes: Cromwell and Workflow. An instance of the `Cromwell` object checks that it points to a valid, authenticated, active Cromwell instance when it starts up. It defines all of the REST api methods supported by cromwell. In contrast, a `Workflow` instance represents a workflow that the `Cromwell` server is aware of. Thus, it has two constructors: one that submits a new workflow, and one that builds the object based on an existing run. We will explore both below. \n",
    "\n",
    "First, we'll use the secondary constructor to submit a new workflow. Later we'll query `Cromwell` and use the discovered run_id to demonstrate the primary constructor. "
   ]
  },
  {
   "cell_type": "markdown",
   "metadata": {
    "deletable": true,
    "editable": true
   },
   "source": [
    "One useful capability of cromwell that this package exposes is the ability to add custom tags to runs. This will help us find the workflow we're initializing with a query. "
   ]
  },
  {
   "cell_type": "code",
   "execution_count": 42,
   "metadata": {
    "collapsed": true,
    "deletable": true,
    "editable": true
   },
   "outputs": [],
   "source": [
    "custom_labels = {'type': 'basicfunctionalitytest'}"
   ]
  },
  {
   "cell_type": "code",
   "execution_count": 83,
   "metadata": {
    "collapsed": false,
    "deletable": true,
    "editable": true
   },
   "outputs": [
    {
     "name": "stdout",
     "output_type": "stream",
     "text": [
      "Submit a new workflow, returning a Workflow object.\n",
      "\n",
      "        :param str wdl: wdl that defines this workflow\n",
      "        :param str inputs_json: inputs to this wdl\n",
      "        :param Cromwell cromwell_server: an authenticated cromwell server\n",
      "\n",
      "        :param str workflow_dependencies:\n",
      "        :param dict custom_labels:\n",
      "        :param str options_json: options file for the workflow\n",
      "        :param bool wait: if True, wait until workflow recognizes as submitted (default: True)\n",
      "        :param int timeout: maximum time to wait\n",
      "        :param int delay: time between status queries\n",
      "        :param bool verbose: if True, print request results\n",
      "        :param args: additional positional args to pass to requests.post\n",
      "        :param kwargs: additional keyword args to pass to request.post\n",
      "\n",
      "        :return dict: Cromwell submission result\n",
      "        \n"
     ]
    }
   ],
   "source": [
    "# also accessible with ?cwt.Workflow.from_submission\n",
    "print(cwt.Workflow.from_submission.__doc__)"
   ]
  },
  {
   "cell_type": "code",
   "execution_count": 44,
   "metadata": {
    "collapsed": false,
    "deletable": true,
    "editable": true
   },
   "outputs": [],
   "source": [
    "test_workflow = cwt.Workflow.from_submission(wdl, inputs, cromwell, custom_labels=custom_labels, options_json=options)"
   ]
  },
  {
   "cell_type": "markdown",
   "metadata": {
    "deletable": true,
    "editable": true
   },
   "source": [
    "the Cromwell rest API exposes a number of useful endpoints that we can use to interact with and evaluate the outcome of a running workflow. For any command to a `Cromwell` instance, specifying `verbose=True` will print the response in addition to storing the output, and specifying `open_browser=True` for any GET request will display the json response in your browser. \n",
    "\n",
    "Below, we describe two ways to get the status of a workflow. In the latter case, we both open the browser window and print the request with `verbose`.  "
   ]
  },
  {
   "cell_type": "code",
   "execution_count": 39,
   "metadata": {
    "collapsed": false,
    "deletable": true,
    "editable": true
   },
   "outputs": [
    {
     "data": {
      "text/plain": [
       "{'id': '827c9e8e-cabc-4e5c-9d46-5254cad52bf4', 'status': 'Submitted'}"
      ]
     },
     "execution_count": 39,
     "metadata": {},
     "output_type": "execute_result"
    }
   ],
   "source": [
    "# version 1\n",
    "test_workflow.status"
   ]
  },
  {
   "cell_type": "code",
   "execution_count": 45,
   "metadata": {
    "collapsed": false,
    "deletable": true,
    "editable": true
   },
   "outputs": [
    {
     "name": "stdout",
     "output_type": "stream",
     "text": [
      "GET Request: http://localhost:6361/api/workflows/v1/cbd7daf8-0a75-4366-9a64-4d3c004ed458/status\n",
      "Response: 200\n",
      "Response Content:\n",
      "{\n",
      "  \"status\": \"Submitted\",\n",
      "  \"id\": \"cbd7daf8-0a75-4366-9a64-4d3c004ed458\"\n",
      "}\n"
     ]
    },
    {
     "data": {
      "text/plain": [
       "<Response [200]>"
      ]
     },
     "execution_count": 45,
     "metadata": {},
     "output_type": "execute_result"
    }
   ],
   "source": [
    "# version 2\n",
    "cromwell.status(test_workflow.run_id, open_browser=True, verbose=True)"
   ]
  },
  {
   "cell_type": "markdown",
   "metadata": {
    "deletable": true,
    "editable": true
   },
   "source": [
    "We can also get a run's metadata, which we read in as a traversable dictionary:"
   ]
  },
  {
   "cell_type": "code",
   "execution_count": 62,
   "metadata": {
    "collapsed": false,
    "deletable": true,
    "editable": true
   },
   "outputs": [
    {
     "data": {
      "text/plain": [
       "dict_keys(['workflowName', 'submittedFiles', 'calls', 'outputs', 'workflowRoot', 'id', 'inputs', 'labels', 'submission', 'status', 'end', 'start'])"
      ]
     },
     "execution_count": 62,
     "metadata": {},
     "output_type": "execute_result"
    }
   ],
   "source": [
    "test_workflow.metadata.keys()"
   ]
  },
  {
   "cell_type": "markdown",
   "metadata": {
    "deletable": true,
    "editable": true
   },
   "source": [
    "We can also print the whole dictionary:"
   ]
  },
  {
   "cell_type": "code",
   "execution_count": 63,
   "metadata": {
    "collapsed": false,
    "deletable": true,
    "editable": true,
    "scrolled": false
   },
   "outputs": [
    {
     "data": {
      "text/plain": [
       "{'calls': {'Sleep.SleepAWhile': [{'attempt': 1,\n",
       "    'backend': 'JES',\n",
       "    'backendLabels': {'cromwell-workflow-id': 'cromwell-cbd7daf8-0a75-4366-9a64-4d3c004ed458',\n",
       "     'type': 'basicfunctionalitytest',\n",
       "     'wdl-task-name': 'sleepawhile'},\n",
       "    'backendLogs': {'log': 'gs://broad-dsde-mint-dev-cromwell-execution/Sleep/cbd7daf8-0a75-4366-9a64-4d3c004ed458/call-SleepAWhile/SleepAWhile.log'},\n",
       "    'backendStatus': 'Success',\n",
       "    'callCaching': {'allowResultReuse': False,\n",
       "     'effectiveCallCachingMode': 'CallCachingOff'},\n",
       "    'callRoot': 'gs://broad-dsde-mint-dev-cromwell-execution/Sleep/cbd7daf8-0a75-4366-9a64-4d3c004ed458/call-SleepAWhile',\n",
       "    'dockerImageUsed': 'ubuntu@sha256:da2fd4e2e10e0ab991f251353a2d3e32d38c75a83a917dbca0a307efd8730f49',\n",
       "    'end': '2017-10-06T13:22:44.658-07:00',\n",
       "    'executionEvents': [{'description': 'start',\n",
       "      'endTime': '2017-10-06T20:21:52.914155355Z',\n",
       "      'startTime': '2017-10-06T20:21:52.914094914Z'},\n",
       "     {'description': 'pulling-image',\n",
       "      'endTime': '2017-10-06T20:22:04.771660249Z',\n",
       "      'startTime': '2017-10-06T20:21:52.914155355Z'},\n",
       "     {'description': 'initializing VM',\n",
       "      'endTime': '2017-10-06T20:21:52.914094914Z',\n",
       "      'startTime': '2017-10-06T20:21:16Z'},\n",
       "     {'description': 'running-docker',\n",
       "      'endTime': '2017-10-06T20:22:23.270322501Z',\n",
       "      'startTime': '2017-10-06T20:22:07.465816141Z'},\n",
       "     {'description': 'cromwell poll interval',\n",
       "      'endTime': '2017-10-06T13:22:43.743-07:00',\n",
       "      'startTime': '2017-10-06T20:22:26.692640058Z'},\n",
       "     {'description': 'waiting for quota',\n",
       "      'endTime': '2017-10-06T20:21:16Z',\n",
       "      'startTime': '2017-10-06T20:21:13Z'},\n",
       "     {'description': 'PreparingJob',\n",
       "      'endTime': '2017-10-06T13:21:09.246-07:00',\n",
       "      'startTime': '2017-10-06T13:21:09.018-07:00'},\n",
       "     {'description': 'Pending',\n",
       "      'endTime': '2017-10-06T13:21:09.017-07:00',\n",
       "      'startTime': '2017-10-06T13:21:09.017-07:00'},\n",
       "     {'description': 'localizing-files',\n",
       "      'endTime': '2017-10-06T20:22:07.465816141Z',\n",
       "      'startTime': '2017-10-06T20:22:04.771660249Z'},\n",
       "     {'description': 'delocalizing-files',\n",
       "      'endTime': '2017-10-06T20:22:26.692640058Z',\n",
       "      'startTime': '2017-10-06T20:22:23.270322501Z'},\n",
       "     {'description': 'UpdatingJobStore',\n",
       "      'endTime': '2017-10-06T13:22:44.658-07:00',\n",
       "      'startTime': '2017-10-06T13:22:43.743-07:00'},\n",
       "     {'description': 'WaitingForOutputStore',\n",
       "      'endTime': '2017-10-06T13:21:09.018-07:00',\n",
       "      'startTime': '2017-10-06T13:21:09.017-07:00'},\n",
       "     {'description': 'ok',\n",
       "      'endTime': '2017-10-06T20:22:26.692640058Z',\n",
       "      'startTime': '2017-10-06T20:22:26.692640058Z'},\n",
       "     {'description': 'RunningJob',\n",
       "      'endTime': '2017-10-06T20:21:13Z',\n",
       "      'startTime': '2017-10-06T13:21:09.246-07:00'},\n",
       "     {'description': 'RequestingExecutionToken',\n",
       "      'endTime': '2017-10-06T13:21:09.017-07:00',\n",
       "      'startTime': '2017-10-06T13:21:09.017-07:00'}],\n",
       "    'executionStatus': 'Done',\n",
       "    'inputs': {'time': 15},\n",
       "    'jes': {'endpointUrl': 'https://genomics.googleapis.com/',\n",
       "     'executionBucket': 'gs://broad-dsde-mint-dev-cromwell-execution',\n",
       "     'googleProject': 'broad-dsde-mint-dev',\n",
       "     'instanceName': 'ggp-6048334419047274870',\n",
       "     'machineType': 'us-central1-b/g1-small',\n",
       "     'monitoringScript': 'gs://broad-dsde-mint-dev-teststorage/10x/benchmark/scripts/monitor.sh',\n",
       "     'zone': 'us-central1-b'},\n",
       "    'jobId': 'operations/EKC25ZrvKxj2stOQvYOA-FMghNikjoMSKg9wcm9kdWN0aW9uUXVldWU',\n",
       "    'labels': {'cromwell-workflow-id': 'cromwell-cbd7daf8-0a75-4366-9a64-4d3c004ed458',\n",
       "     'type': 'basicfunctionalitytest',\n",
       "     'wdl-task-name': 'SleepAWhile'},\n",
       "    'monitoringLog': 'gs://broad-dsde-mint-dev-cromwell-execution/Sleep/cbd7daf8-0a75-4366-9a64-4d3c004ed458/call-SleepAWhile/monitoring.log',\n",
       "    'outputs': {},\n",
       "    'preemptible': False,\n",
       "    'returnCode': 0,\n",
       "    'runtimeAttributes': {'bootDiskSizeGb': '10',\n",
       "     'continueOnReturnCode': '0',\n",
       "     'cpu': '1',\n",
       "     'disks': 'local-disk 10 HDD',\n",
       "     'docker': 'ubuntu:zesty',\n",
       "     'failOnStderr': 'false',\n",
       "     'memory': '1 GB',\n",
       "     'noAddress': 'false',\n",
       "     'preemptible': '0',\n",
       "     'zones': 'us-central1-b'},\n",
       "    'shardIndex': -1,\n",
       "    'start': '2017-10-06T13:21:09.016-07:00',\n",
       "    'stderr': 'gs://broad-dsde-mint-dev-cromwell-execution/Sleep/cbd7daf8-0a75-4366-9a64-4d3c004ed458/call-SleepAWhile/SleepAWhile-stderr.log',\n",
       "    'stdout': 'gs://broad-dsde-mint-dev-cromwell-execution/Sleep/cbd7daf8-0a75-4366-9a64-4d3c004ed458/call-SleepAWhile/SleepAWhile-stdout.log'}]},\n",
       " 'end': '2017-10-06T13:22:44.898-07:00',\n",
       " 'id': 'cbd7daf8-0a75-4366-9a64-4d3c004ed458',\n",
       " 'inputs': {'Sleep.time': 15},\n",
       " 'labels': {'cromwell-workflow-id': 'cromwell-cbd7daf8-0a75-4366-9a64-4d3c004ed458',\n",
       "  'type': 'basicfunctionalitytest'},\n",
       " 'outputs': {},\n",
       " 'start': '2017-10-06T13:21:06.969-07:00',\n",
       " 'status': 'Succeeded',\n",
       " 'submission': '2017-10-06T13:20:50.007-07:00',\n",
       " 'submittedFiles': {'inputs': '{\"Sleep.time\":15}',\n",
       "  'labels': '{\"type\": \"basicfunctionalitytest\"}',\n",
       "  'options': '{\\n  \"monitoring_script\": \"gs://broad-dsde-mint-dev-teststorage/10x/benchmark/scripts/monitor.sh\",\\n  \"read_from_cache\": false,\\n  \"write_to_cache\": false\\n}',\n",
       "  'workflow': '\\ntask SleepAWhile {\\n  Int time\\n\\n  command {\\n    lsblk\\n    df -k\\n    sleep ${time}\\n    echo \"something\"\\n  }\\n\\n  runtime {\\n    cpu: \"1\"\\n    docker: \"ubuntu:zesty\"\\n    memory: \"1 GB\"\\n    disks: \"local-disk 10 HDD\"\\n  }\\n}\\n\\nworkflow Sleep {\\n  Int time\\n\\n  call SleepAWhile {\\n    input:\\n      time = time\\n  }\\n}\\n',\n",
       "  'workflowType': 'WDL'},\n",
       " 'workflowName': 'Sleep',\n",
       " 'workflowRoot': 'gs://broad-dsde-mint-dev-cromwell-execution/Sleep/cbd7daf8-0a75-4366-9a64-4d3c004ed458/'}"
      ]
     },
     "execution_count": 63,
     "metadata": {},
     "output_type": "execute_result"
    }
   ],
   "source": [
    "test_workflow.metadata"
   ]
  },
  {
   "cell_type": "markdown",
   "metadata": {
    "deletable": true,
    "editable": true
   },
   "source": [
    "## Explore Workflow results and resource utilization"
   ]
  },
  {
   "cell_type": "markdown",
   "metadata": {
    "deletable": true,
    "editable": true
   },
   "source": [
    "After the workflow completes, we can automatically parse information on the tasks that were run. In this case, we ran a monitoring script and can figure out how much memory and disk was used in the task. While it's not necessary to do this, we can first look at the actual output of the monitoring script."
   ]
  },
  {
   "cell_type": "code",
   "execution_count": 51,
   "metadata": {
    "collapsed": false,
    "deletable": true,
    "editable": true
   },
   "outputs": [],
   "source": [
    "# can take up to two minutes, considering overhead required to spin up the instance\n",
    "test_workflow.wait_until_complete(timeout=120, delay=5)"
   ]
  },
  {
   "cell_type": "markdown",
   "metadata": {
    "deletable": true,
    "editable": true
   },
   "source": [
    "We can display the logs for the successful run. Unfortunately cromwell doesn't consider our monitoring script a log, so we need to get the workflow root. "
   ]
  },
  {
   "cell_type": "code",
   "execution_count": 55,
   "metadata": {
    "collapsed": false,
    "deletable": true,
    "editable": true
   },
   "outputs": [
    {
     "name": "stdout",
     "output_type": "stream",
     "text": [
      "GET Request: http://localhost:6361/api/workflows/v1/cbd7daf8-0a75-4366-9a64-4d3c004ed458/logs\n",
      "Response: 200\n",
      "Response Content:\n",
      "{\n",
      "  \"calls\": {\n",
      "    \"Sleep.SleepAWhile\": [\n",
      "      {\n",
      "        \"stdout\": \"gs://broad-dsde-mint-dev-cromwell-execution/Sleep/cbd7daf8-0a75-4366-9a64-4d3c004ed458/call-SleepAWhile/SleepAWhile-stdout.log\",\n",
      "        \"shardIndex\": -1,\n",
      "        \"stderr\": \"gs://broad-dsde-mint-dev-cromwell-execution/Sleep/cbd7daf8-0a75-4366-9a64-4d3c004ed458/call-SleepAWhile/SleepAWhile-stderr.log\",\n",
      "        \"attempt\": 1,\n",
      "        \"backendLogs\": {\n",
      "          \"log\": \"gs://broad-dsde-mint-dev-cromwell-execution/Sleep/cbd7daf8-0a75-4366-9a64-4d3c004ed458/call-SleepAWhile/SleepAWhile.log\"\n",
      "        }\n",
      "      }\n",
      "    ]\n",
      "  },\n",
      "  \"id\": \"cbd7daf8-0a75-4366-9a64-4d3c004ed458\"\n",
      "}\n"
     ]
    },
    {
     "data": {
      "text/plain": [
       "<Response [200]>"
      ]
     },
     "execution_count": 55,
     "metadata": {},
     "output_type": "execute_result"
    }
   ],
   "source": [
    "cromwell.logs(test_workflow.run_id, verbose=True)"
   ]
  },
  {
   "cell_type": "code",
   "execution_count": 72,
   "metadata": {
    "collapsed": true,
    "deletable": true,
    "editable": true
   },
   "outputs": [],
   "source": [
    "# our call was called SleepAWhile; we can get the file from google storage. \n",
    "log_filename = test_workflow.metadata['workflowRoot'] + 'call-SleepAWhile/monitoring.log'\n",
    "bucket_name, blob_name = cwt.task.split_google_storage_path(log_filename)"
   ]
  },
  {
   "cell_type": "code",
   "execution_count": 75,
   "metadata": {
    "collapsed": false,
    "deletable": true,
    "editable": true
   },
   "outputs": [],
   "source": [
    "bucket = client.bucket(bucket_name)\n",
    "blob = bucket.blob(blob_name)"
   ]
  },
  {
   "cell_type": "code",
   "execution_count": 87,
   "metadata": {
    "collapsed": false,
    "deletable": true,
    "editable": true
   },
   "outputs": [
    {
     "name": "stdout",
     "output_type": "stream",
     "text": [
      "--- General Information ---\n",
      "#CPU: 1\n",
      "Total Memory (MB): 1700\n",
      "Total Disk space (KB): 10190136\n",
      "\n",
      "--- Runtime Information ---\n",
      "* Memory usage (%): 7.41%\n",
      "* Memory usage (MB): 126\n",
      "* Disk usage (%): 0.23%\n",
      "* Disk usage (KB): 23044\n",
      "* Memory usage (%): 7.41%\n",
      "* Memory usage (MB): 126\n",
      "* Disk usage (%): 0.23%\n",
      "* Disk usage (KB): 23044\n",
      "* Memory usage (%): 7.35%\n",
      "* Memory usage (MB): 125\n",
      "* Disk usage (%): 0.23%\n",
      "* Disk usage (KB): 23044\n",
      "* Memory usage (%): 7.41%\n",
      "* Memory usage (MB): 126\n",
      "* Disk usage (%): 0.23%\n",
      "* Disk usage (KB): 23048\n",
      "\n"
     ]
    }
   ],
   "source": [
    "# here's what the monitoring log looks like\n",
    "print(blob.download_as_string().decode())"
   ]
  },
  {
   "cell_type": "markdown",
   "metadata": {
    "deletable": true,
    "editable": true
   },
   "source": [
    "This information is automatically parsed by the `Task` object and stored in a `ResourceUtilization` object, which is created when you call `tasks()` on a workflow. "
   ]
  },
  {
   "cell_type": "code",
   "execution_count": 95,
   "metadata": {
    "collapsed": false,
    "deletable": true,
    "editable": true
   },
   "outputs": [
    {
     "name": "stdout",
     "output_type": "stream",
     "text": [
      "Sleep.SleepAWhile\n",
      "SleepAWhile Monitoring Summary:\n",
      "Max Memory Usage (MB): 126\n",
      "Available Memory (MB): 1700\n",
      "Max disk usage   (KB): 23048\n",
      "Available disk   (KB): 10190136\n",
      "Disk Utilized     (%): 0.002\n",
      "Memory Utilized   (%): 0.074\n",
      "Robust Estimate?     : True\n",
      "\n"
     ]
    }
   ],
   "source": [
    "for name, task in test_workflow.tasks().items():\n",
    "    print(name)\n",
    "    print(task.resource_utilization)"
   ]
  },
  {
   "cell_type": "markdown",
   "metadata": {
    "deletable": true,
    "editable": true
   },
   "source": [
    "This information can be saved to a file for later analysis"
   ]
  },
  {
   "cell_type": "code",
   "execution_count": null,
   "metadata": {
    "collapsed": true,
    "deletable": true,
    "editable": true
   },
   "outputs": [],
   "source": [
    "resource_utilization_filename = 'test_resource_utilization.txt'\n",
    "test_workflow.save_resource_utilization(resource_utilization_filename)"
   ]
  },
  {
   "cell_type": "markdown",
   "metadata": {
    "deletable": true,
    "editable": true
   },
   "source": [
    "## Interact with previously completed workflows"
   ]
  },
  {
   "cell_type": "markdown",
   "metadata": {
    "deletable": true,
    "editable": true
   },
   "source": [
    "Earlier it was stated that there are two `Workflow` constructors. Lets use some of the other cromwell functionality to show how that other constructor works. First, lets find our workflow using cromwell's query syntax. "
   ]
  },
  {
   "cell_type": "code",
   "execution_count": 108,
   "metadata": {
    "collapsed": false,
    "deletable": true,
    "editable": true
   },
   "outputs": [
    {
     "name": "stdout",
     "output_type": "stream",
     "text": [
      "GET Request: http://localhost:6361/api/workflows/v1/query?name=Sleep&status=Succeeded\n",
      "Response: 200\n",
      "Response Content:\n",
      "{\n",
      "  \"results\": [\n",
      "    {\n",
      "      \"name\": \"Sleep\",\n",
      "      \"id\": \"da9dbc0a-1361-41d3-9ba3-7d98650e554b\",\n",
      "      \"status\": \"Succeeded\",\n",
      "      \"end\": \"2017-10-05T08:24:04.304-07:00\",\n",
      "      \"start\": \"2017-10-05T08:22:31.431-07:00\"\n",
      "    },\n",
      "    {\n",
      "      \"name\": \"Sleep\",\n",
      "      \"id\": \"be986809-4fa0-44ff-ac63-bf8a13e33c1c\",\n",
      "      \"status\": \"Succeeded\",\n",
      "      \"end\": \"2017-10-05T08:25:24.072-07:00\",\n",
      "      \"start\": \"2017-10-05T08:23:11.461-07:00\"\n",
      "    },\n",
      "    {\n",
      "      \"name\": \"Sleep\",\n",
      "      \"id\": \"22933ae9-08a1-47b2-babf-188aee37d4b6\",\n",
      "      \"status\": \"Succeeded\",\n",
      "      \"end\": \"2017-10-05T08:25:35.174-07:00\",\n",
      "      \"start\": \"2017-10-05T08:24:11.522-07:00\"\n",
      "    },\n",
      "    {\n",
      "      \"name\": \"Sleep\",\n",
      "      \"id\": \"adc9a556-74dd-41f8-bc24-69e54bd161e3\",\n",
      "      \"status\": \"Succeeded\",\n",
      "      \"end\": \"2017-10-05T08:26:52.304-07:00\",\n",
      "      \"start\": \"2017-10-05T08:24:31.542-07:00\"\n",
      "    },\n",
      "    {\n",
      "      \"name\": \"Sleep\",\n",
      "      \"id\": \"fb403f41-345c-4f48-9772-3bcfbfa0ecd7\",\n",
      "      \"status\": \"Succeeded\",\n",
      "      \"end\": \"2017-10-05T12:27:59.288-07:00\",\n",
      "      \"start\": \"2017-10-05T11:12:41.662-07:00\"\n",
      "    },\n",
      "    {\n",
      "      \"name\": \"Sleep\",\n",
      "      \"id\": \"cbd7daf8-0a75-4366-9a64-4d3c004ed458\",\n",
      "      \"status\": \"Succeeded\",\n",
      "      \"end\": \"2017-10-06T13:22:44.898-07:00\",\n",
      "      \"start\": \"2017-10-06T13:21:06.969-07:00\"\n",
      "    }\n",
      "  ]\n",
      "}\n"
     ]
    },
    {
     "data": {
      "text/plain": [
       "<Response [200]>"
      ]
     },
     "execution_count": 108,
     "metadata": {},
     "output_type": "execute_result"
    }
   ],
   "source": [
    "cromwell.query(status=['Succeeded'], names=['Sleep'], verbose=True)"
   ]
  },
  {
   "cell_type": "markdown",
   "metadata": {
    "deletable": true,
    "editable": true
   },
   "source": [
    "Here I've run a couple, but the last one is the one we're looking for, which was run today. \n",
    "\n",
    "Below we use the other constructor to create a `Workflow` from a run_id object. "
   ]
  },
  {
   "cell_type": "code",
   "execution_count": 114,
   "metadata": {
    "collapsed": false,
    "deletable": true,
    "editable": true
   },
   "outputs": [
    {
     "data": {
      "text/plain": [
       "{'id': 'cbd7daf8-0a75-4366-9a64-4d3c004ed458', 'status': 'Succeeded'}"
      ]
     },
     "execution_count": 114,
     "metadata": {},
     "output_type": "execute_result"
    }
   ],
   "source": [
    "run_id = cromwell.query(status=['Succeeded'], names=['Sleep']).json()['results'][-1]['id']\n",
    "duplicate_workflow = cwt.Workflow(run_id=run_id, cromwell_server=cromwell, storage_client=client)\n",
    "duplicate_workflow.status  # same as above. "
   ]
  },
  {
   "cell_type": "markdown",
   "metadata": {
    "deletable": true,
    "editable": true
   },
   "source": [
    "We can also look at the timing diagram, which for this workflow is boring (will open in another window)"
   ]
  },
  {
   "cell_type": "code",
   "execution_count": 116,
   "metadata": {
    "collapsed": false,
    "deletable": true,
    "editable": true
   },
   "outputs": [],
   "source": [
    "duplicate_workflow.timing()"
   ]
  },
  {
   "cell_type": "markdown",
   "metadata": {
    "deletable": true,
    "editable": true
   },
   "source": [
    "## Other miscellaneous functionality"
   ]
  },
  {
   "cell_type": "markdown",
   "metadata": {
    "deletable": true,
    "editable": true
   },
   "source": [
    "Display cromwell backends:"
   ]
  },
  {
   "cell_type": "code",
   "execution_count": 120,
   "metadata": {
    "collapsed": false,
    "deletable": true,
    "editable": true
   },
   "outputs": [
    {
     "name": "stdout",
     "output_type": "stream",
     "text": [
      "GET Request: http://localhost:6361/api/workflows/v1/backends\n",
      "Response: 200\n",
      "Response Content:\n",
      "{\n",
      "  \"supportedBackends\": [\n",
      "    \"JES\",\n",
      "    \"Local\",\n",
      "    \"SGE\"\n",
      "  ],\n",
      "  \"defaultBackend\": \"JES\"\n",
      "}\n"
     ]
    },
    {
     "data": {
      "text/plain": [
       "<Response [200]>"
      ]
     },
     "execution_count": 120,
     "metadata": {},
     "output_type": "execute_result"
    }
   ],
   "source": [
    "cromwell.backends(verbose=True)"
   ]
  },
  {
   "cell_type": "markdown",
   "metadata": {
    "deletable": true,
    "editable": true
   },
   "source": [
    "Display run outputs (note: our task doesn't have any!)"
   ]
  },
  {
   "cell_type": "code",
   "execution_count": 122,
   "metadata": {
    "collapsed": false,
    "deletable": true,
    "editable": true
   },
   "outputs": [
    {
     "name": "stdout",
     "output_type": "stream",
     "text": [
      "GET Request: http://localhost:6361/api/workflows/v1/cbd7daf8-0a75-4366-9a64-4d3c004ed458/outputs\n",
      "Response: 200\n",
      "Response Content:\n",
      "{\n",
      "  \"outputs\": {},\n",
      "  \"id\": \"cbd7daf8-0a75-4366-9a64-4d3c004ed458\"\n",
      "}\n"
     ]
    },
    {
     "data": {
      "text/plain": [
       "<Response [200]>"
      ]
     },
     "execution_count": 122,
     "metadata": {},
     "output_type": "execute_result"
    }
   ],
   "source": [
    "cromwell.outputs(test_workflow.run_id, verbose=True)"
   ]
  },
  {
   "cell_type": "markdown",
   "metadata": {
    "deletable": true,
    "editable": true
   },
   "source": [
    "Abort a workflow (this will fail, since our workflow is already complete!)"
   ]
  },
  {
   "cell_type": "code",
   "execution_count": 123,
   "metadata": {
    "collapsed": false,
    "deletable": true,
    "editable": true
   },
   "outputs": [
    {
     "data": {
      "text/plain": [
       "{'message': \"Couldn't abort cbd7daf8-0a75-4366-9a64-4d3c004ed458 because no workflow with that ID is in progress\",\n",
       " 'status': 'error'}"
      ]
     },
     "execution_count": 123,
     "metadata": {},
     "output_type": "execute_result"
    }
   ],
   "source": [
    "test_workflow.abort()"
   ]
  },
  {
   "cell_type": "markdown",
   "metadata": {
    "deletable": true,
    "editable": true
   },
   "source": [
    "Finally, open the swagger API for your instance:"
   ]
  },
  {
   "cell_type": "code",
   "execution_count": 124,
   "metadata": {
    "collapsed": true,
    "deletable": true,
    "editable": true
   },
   "outputs": [],
   "source": [
    "cromwell.swagger()"
   ]
  }
 ],
 "metadata": {
  "hide_input": false,
  "kernelspec": {
   "display_name": "Python 3",
   "language": "python",
   "name": "python3"
  },
  "language_info": {
   "codemirror_mode": {
    "name": "ipython",
    "version": 3
   },
   "file_extension": ".py",
   "mimetype": "text/x-python",
   "name": "python",
   "nbconvert_exporter": "python",
   "pygments_lexer": "ipython3",
   "version": "3.6.0"
  },
  "toc": {
   "nav_menu": {},
   "number_sections": true,
   "sideBar": true,
   "skip_h1_title": false,
   "toc_cell": false,
   "toc_position": {},
   "toc_section_display": "block",
   "toc_window_display": true
  }
 },
 "nbformat": 4,
 "nbformat_minor": 2
}
