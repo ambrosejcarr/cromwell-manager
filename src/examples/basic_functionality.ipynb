{
 "cells": [
  {
   "cell_type": "code",
   "execution_count": 1,
   "metadata": {
    "collapsed": false,
    "deletable": true,
    "editable": true
   },
   "outputs": [],
   "source": [
    "%load_ext autoreload\n",
    "% autoreload 2"
   ]
  },
  {
   "cell_type": "code",
   "execution_count": 3,
   "metadata": {
    "collapsed": false,
    "deletable": true,
    "editable": true
   },
   "outputs": [],
   "source": [
    "import os\n",
    "import json\n",
    "import cromwell_manager as cwm\n",
    "from google.cloud import storage\n",
    "from IPython import display"
   ]
  },
  {
   "cell_type": "markdown",
   "metadata": {
    "deletable": true,
    "editable": true
   },
   "source": [
    "## Basic Cromwell Manager Functionality\n",
    "\n",
    "This notebook walks through the basic functionality of cromwell-manager. A typical workflow involves defining and running some WDL workflows using a cromwell server. \n",
    "\n",
    "This server can either be a locally running server, in which case you access it from a localhost url, or a web service, which will have its own URL. For the purpose of this demo notebook, we'll assume you're setting up a local server. It also assumes you've set-up and authenticated a version of the google-cloud-sdk and can make a successful call to `google.cloud.storage.Client()`"
   ]
  },
  {
   "cell_type": "markdown",
   "metadata": {
    "deletable": true,
    "editable": true
   },
   "source": [
    "## Set up clients & confirm they're running"
   ]
  },
  {
   "cell_type": "code",
   "execution_count": 6,
   "metadata": {
    "collapsed": false,
    "deletable": true,
    "editable": true
   },
   "outputs": [],
   "source": [
    "# no username and password for localhost. \n",
    "PORT = 'secret'  # replace with a number\n",
    "google_project = 'broad-dsde-mint-dev'\n",
    "cromwell_url = 'http://localhost:{PORT}'.format(PORT=PORT)\n",
    "local_config = {'cromwell_url': cromwell_url}\n",
    "cromwell = cwm.Cromwell(**local_config)"
   ]
  },
  {
   "cell_type": "markdown",
   "metadata": {
    "deletable": true,
    "editable": true
   },
   "source": [
    "The constructor for `Cromwell` confirms that you've specified a properly identified server. However you can re-run this check with `Cromwell.server_is_running()`. This can also help debug rare cases where your server shuts down mid-workflow. "
   ]
  },
  {
   "cell_type": "code",
   "execution_count": 7,
   "metadata": {
    "collapsed": false,
    "deletable": true,
    "editable": true
   },
   "outputs": [
    {
     "data": {
      "text/plain": [
       "True"
      ]
     },
     "execution_count": 7,
     "metadata": {},
     "output_type": "execute_result"
    }
   ],
   "source": [
    "cromwell.server_is_running()"
   ]
  },
  {
   "cell_type": "code",
   "execution_count": 8,
   "metadata": {
    "collapsed": false,
    "deletable": true,
    "editable": true
   },
   "outputs": [
    {
     "name": "stdout",
     "output_type": "stream",
     "text": [
      "[<Bucket: artifacts.broad-dsde-mint-dev.appspot.com>, <Bucket: broad-dsde-mint-dev>]\n"
     ]
    }
   ],
   "source": [
    "# confirm client is properly authenticated by listing the buckets\n",
    "client = storage.Client(project=google_project)\n",
    "buckets = list(client.list_buckets())\n",
    "print(buckets[:2]) # just list the first two"
   ]
  },
  {
   "cell_type": "markdown",
   "metadata": {
    "deletable": true,
    "editable": true
   },
   "source": [
    "## Define an example workflow\n",
    "\n",
    "Cromwell is set up to accept local files, google storage endpoints, and http or https endpoints for its inputs. To demonstrate the https capabilities, this demo will pull the files directly from the `cromwell-manager` git repository. We'll download a WDL file that runs a testing workflow that spins up an inexpensive google instance and sleeps for 15 seconds. We will attach a monitoring script to it so we can see how the memory and disk usage fluctuates across the run. \n",
    "\n",
    "First, however, assuming you're running this notebook from a cloned repository, lets take a look at the files we're about to run. "
   ]
  },
  {
   "cell_type": "code",
   "execution_count": 25,
   "metadata": {
    "collapsed": true,
    "deletable": true,
    "editable": true
   },
   "outputs": [],
   "source": [
    "data_dir = '../cromwell_manager/test/data/' \n",
    "local_wdl = data_dir + 'testing.wdl'\n",
    "local_inputs = data_dir + 'testing_example_inputs.json'\n",
    "local_options = data_dir + 'options.json'"
   ]
  },
  {
   "cell_type": "markdown",
   "metadata": {
    "deletable": true,
    "editable": true
   },
   "source": [
    "We can visualize each of these modules because they're very simple. The inputs file provides a single input, the amount of time to sleep. The options file provides the monitoring script and turns off call caching to make sure the submission provokes a fresh run. Finally, the WDL defines a task that takes the time input and sleeps for that amount of time. "
   ]
  },
  {
   "cell_type": "code",
   "execution_count": 27,
   "metadata": {
    "collapsed": false
   },
   "outputs": [
    {
     "name": "stdout",
     "output_type": "stream",
     "text": [
      "{\r\n",
      "  \"Sleep.time\": 15\r\n",
      "}\r\n"
     ]
    }
   ],
   "source": [
    "!cat $local_inputs"
   ]
  },
  {
   "cell_type": "code",
   "execution_count": 28,
   "metadata": {
    "collapsed": false,
    "deletable": true,
    "editable": true
   },
   "outputs": [
    {
     "name": "stdout",
     "output_type": "stream",
     "text": [
      "{\r\n",
      "  \"monitoring_script\": \"gs://broad-dsde-mint-dev-teststorage/10x/benchmark/scripts/monitor.sh\",\r\n",
      "  \"read_from_cache\":false,\r\n",
      "  \"write_to_cache\":false\r\n",
      "}"
     ]
    }
   ],
   "source": [
    "!cat $local_options"
   ]
  },
  {
   "cell_type": "code",
   "execution_count": 29,
   "metadata": {
    "collapsed": false,
    "deletable": true,
    "editable": true
   },
   "outputs": [
    {
     "name": "stdout",
     "output_type": "stream",
     "text": [
      "\r\n",
      "task SleepAWhile {\r\n",
      "  Int time\r\n",
      "\r\n",
      "  command {\r\n",
      "    lsblk\r\n",
      "    df -k\r\n",
      "    sleep ${time}\r\n",
      "    echo \"something\"\r\n",
      "  }\r\n",
      "\r\n",
      "  runtime {\r\n",
      "    cpu: \"1\"\r\n",
      "    docker: \"ubuntu:zesty\"\r\n",
      "    memory: \"1 GB\"\r\n",
      "    disks: \"local-disk 10 HDD\"\r\n",
      "  }\r\n",
      "}\r\n",
      "\r\n",
      "workflow Sleep {\r\n",
      "  Int time\r\n",
      "\r\n",
      "  call SleepAWhile {\r\n",
      "    input:\r\n",
      "      time = time\r\n",
      "  }\r\n",
      "}\r\n"
     ]
    }
   ],
   "source": [
    "!cat $local_wdl"
   ]
  },
  {
   "cell_type": "markdown",
   "metadata": {
    "deletable": true,
    "editable": true
   },
   "source": [
    "Now we define the files we're looking to download"
   ]
  },
  {
   "cell_type": "code",
   "execution_count": 34,
   "metadata": {
    "collapsed": true,
    "deletable": true,
    "editable": true
   },
   "outputs": [],
   "source": [
    "wdl = 'https://raw.githubusercontent.com/ambrosejcarr/cromwell-manager/master/src/cromwell_manager/test/data/testing.wdl'\n",
    "inputs = 'https://raw.githubusercontent.com/ambrosejcarr/cromwell-manager/master/src/cromwell_manager/test/data/testing_example_inputs.json'\n",
    "options = 'https://raw.githubusercontent.com/ambrosejcarr/cromwell-manager/master/src/cromwell_manager/test/data/options.json'"
   ]
  },
  {
   "cell_type": "markdown",
   "metadata": {
    "deletable": true,
    "editable": true
   },
   "source": [
    "## Submit and explore the workflow\n",
    "\n",
    "The Cromwell Manager package defines two main classes: Cromwell and Workflow. An instance of the `Cromwell` object checks that it points to a valid, authenticated, active Cromwell instance when it starts up. It defines all of the REST api methods supported by cromwell. In contrast, a `Workflow` instance represents a workflow that the `Cromwell` server is aware of. Thus, it has two constructors: one that submits a new workflow, and one that builds the object based on an existing run. We will explore both below. \n",
    "\n",
    "First, we'll use the secondary constructor to submit a new workflow. Later we'll query `Cromwell` and use the discovered run_id to demonstrate the primary constructor. "
   ]
  },
  {
   "cell_type": "markdown",
   "metadata": {
    "deletable": true,
    "editable": true
   },
   "source": [
    "One useful capability of cromwell that this package exposes is the ability to add custom tags to runs. This will help us find the workflow we're initializing with a query. "
   ]
  },
  {
   "cell_type": "code",
   "execution_count": 35,
   "metadata": {
    "collapsed": true,
    "deletable": true,
    "editable": true
   },
   "outputs": [],
   "source": [
    "custom_labels = {'type': 'basicfunctionalitytest'}"
   ]
  },
  {
   "cell_type": "markdown",
   "metadata": {
    "deletable": true,
    "editable": true
   },
   "source": [
    "Documentation for any function in the cromwell-manager package can be accessed by printing the `__doc__` method, or by using `?cwm.<object_name>` in `jupyter`."
   ]
  },
  {
   "cell_type": "code",
   "execution_count": 32,
   "metadata": {
    "collapsed": false,
    "deletable": true,
    "editable": true
   },
   "outputs": [
    {
     "name": "stdout",
     "output_type": "stream",
     "text": [
      "Submit a new workflow, returning a Workflow object.\n",
      "\n",
      "\n",
      "        :param str wdl: wdl that defines this workflow\n",
      "        :param str inputs_json: inputs to this wdl\n",
      "        :param Cromwell cromwell_server: an authenticated cromwell server\n",
      "        :param storage.Client storage_client: authenticated google storage client\n",
      "\n",
      "        :param str workflow_dependencies:\n",
      "        :param dict custom_labels:\n",
      "        :param str options_json: options file for the workflow\n",
      "\n",
      "        :param bool wait: if True, wait until workflow recognizes as submitted (default: True)\n",
      "        :param int timeout: maximum time to wait\n",
      "        :param int delay: time between status queries\n",
      "        :param bool verbose: if True, print request results\n",
      "        :param args: additional positional args to pass to requests.post\n",
      "        :param kwargs: additional keyword args to pass to request.post\n",
      "\n",
      "        :return dict: Cromwell submission result\n",
      "        \n"
     ]
    }
   ],
   "source": [
    "# also accessible with ?cwm.Workflow.from_submission\n",
    "print(cwm.Workflow.from_submission.__doc__)"
   ]
  },
  {
   "cell_type": "code",
   "execution_count": 36,
   "metadata": {
    "collapsed": false,
    "deletable": true,
    "editable": true
   },
   "outputs": [],
   "source": [
    "test_workflow = cwm.Workflow.from_submission(\n",
    "    wdl=wdl, \n",
    "    inputs_json=inputs, \n",
    "    cromwell_server=cromwell,\n",
    "    storage_client=client,\n",
    "    custom_labels=custom_labels,\n",
    "    options_json=options)"
   ]
  },
  {
   "cell_type": "markdown",
   "metadata": {
    "deletable": true,
    "editable": true
   },
   "source": [
    "the Cromwell rest API exposes a number of useful endpoints that we can use to interact with and evaluate the outcome of a running workflow. For any command to a `Cromwell` instance, specifying `verbose=True` will print the response in addition to storing the output, and specifying `open_browser=True` for any GET request will display the json response in your browser. \n",
    "\n",
    "Both the `Cromwell` and `Workflow` classes provide access to a most of the endpoints. In most cases the `Workflow` API is simpler but less fully featured. Below, we describe these two ways to get the status of a workflow. In the latter case, we both open the browser window and print the request with `verbose`.  "
   ]
  },
  {
   "cell_type": "code",
   "execution_count": 37,
   "metadata": {
    "collapsed": false,
    "deletable": true,
    "editable": true
   },
   "outputs": [
    {
     "data": {
      "text/plain": [
       "{'id': '7e940c5a-ed9c-4558-84ea-fbc83387b682', 'status': 'Submitted'}"
      ]
     },
     "execution_count": 37,
     "metadata": {},
     "output_type": "execute_result"
    }
   ],
   "source": [
    "# version 1\n",
    "test_workflow.status"
   ]
  },
  {
   "cell_type": "code",
   "execution_count": 38,
   "metadata": {
    "collapsed": false,
    "deletable": true,
    "editable": true
   },
   "outputs": [
    {
     "name": "stdout",
     "output_type": "stream",
     "text": [
      "GET Request: http://localhost:6361/api/workflows/v1/7e940c5a-ed9c-4558-84ea-fbc83387b682/status\n",
      "Response: 200\n",
      "Response Content:\n",
      "{\n",
      "  \"status\": \"Submitted\",\n",
      "  \"id\": \"7e940c5a-ed9c-4558-84ea-fbc83387b682\"\n",
      "}\n"
     ]
    }
   ],
   "source": [
    "# version 2\n",
    "response = cromwell.status(test_workflow.id, open_browser=True, verbose=True)"
   ]
  },
  {
   "cell_type": "markdown",
   "metadata": {
    "deletable": true,
    "editable": true
   },
   "source": [
    "We can also get a run's metadata, which we read in as a traversable dictionary:"
   ]
  },
  {
   "cell_type": "code",
   "execution_count": 39,
   "metadata": {
    "collapsed": false,
    "deletable": true,
    "editable": true
   },
   "outputs": [
    {
     "data": {
      "text/plain": [
       "dict_keys(['workflowName', 'submittedFiles', 'calls', 'outputs', 'workflowRoot', 'id', 'inputs', 'labels', 'submission', 'status', 'start'])"
      ]
     },
     "execution_count": 39,
     "metadata": {},
     "output_type": "execute_result"
    }
   ],
   "source": [
    "test_workflow.metadata.keys()"
   ]
  },
  {
   "cell_type": "markdown",
   "metadata": {
    "deletable": true,
    "editable": true
   },
   "source": [
    "Or we can print the whole dictionary:"
   ]
  },
  {
   "cell_type": "code",
   "execution_count": 40,
   "metadata": {
    "collapsed": false,
    "deletable": true,
    "editable": true,
    "scrolled": false
   },
   "outputs": [
    {
     "data": {
      "text/plain": [
       "{'calls': {'Sleep.SleepAWhile': [{'attempt': 1,\n",
       "    'backend': 'JES',\n",
       "    'callCaching': {'allowResultReuse': False,\n",
       "     'effectiveCallCachingMode': 'CallCachingOff'},\n",
       "    'executionStatus': 'Starting',\n",
       "    'shardIndex': -1,\n",
       "    'start': '2017-10-13T19:03:01.530-04:00'}]},\n",
       " 'id': '7e940c5a-ed9c-4558-84ea-fbc83387b682',\n",
       " 'inputs': {'Sleep.time': 15},\n",
       " 'labels': {'cromwell-workflow-id': 'cromwell-7e940c5a-ed9c-4558-84ea-fbc83387b682',\n",
       "  'type': 'basicfunctionalitytest'},\n",
       " 'outputs': {},\n",
       " 'start': '2017-10-13T19:02:59.057-04:00',\n",
       " 'status': 'Running',\n",
       " 'submission': '2017-10-13T19:02:49-04:00',\n",
       " 'submittedFiles': {'inputs': '{\"Sleep.time\":15}',\n",
       "  'labels': '{\"type\": \"basicfunctionalitytest\"}',\n",
       "  'options': '{\\n  \"monitoring_script\": \"gs://broad-dsde-mint-dev-teststorage/10x/benchmark/scripts/monitor.sh\",\\n  \"read_from_cache\": false,\\n  \"write_to_cache\": false\\n}',\n",
       "  'workflow': '\\ntask SleepAWhile {\\n  Int time\\n\\n  command {\\n    lsblk\\n    df -k\\n    sleep ${time}\\n    echo \"something\"\\n  }\\n\\n  runtime {\\n    cpu: \"1\"\\n    docker: \"ubuntu:zesty\"\\n    memory: \"1 GB\"\\n    disks: \"local-disk 10 HDD\"\\n  }\\n}\\n\\nworkflow Sleep {\\n  Int time\\n\\n  call SleepAWhile {\\n    input:\\n      time = time\\n  }\\n}\\n',\n",
       "  'workflowType': 'WDL'},\n",
       " 'workflowName': 'Sleep',\n",
       " 'workflowRoot': 'gs://broad-dsde-mint-dev-cromwell-execution/Sleep/7e940c5a-ed9c-4558-84ea-fbc83387b682/'}"
      ]
     },
     "execution_count": 40,
     "metadata": {},
     "output_type": "execute_result"
    }
   ],
   "source": [
    "test_workflow.metadata"
   ]
  },
  {
   "cell_type": "markdown",
   "metadata": {
    "deletable": true,
    "editable": true
   },
   "source": [
    "## Explore Workflow results and resource utilization"
   ]
  },
  {
   "cell_type": "markdown",
   "metadata": {
    "deletable": true,
    "editable": true
   },
   "source": [
    "After the workflow completes, we can automatically parse information on the tasks that were run. In this case, we ran a monitoring script and can figure out how much memory and disk was used in the task. While it's not necessary to do this, we can first look at the actual output of the monitoring script."
   ]
  },
  {
   "cell_type": "code",
   "execution_count": 41,
   "metadata": {
    "collapsed": false,
    "deletable": true,
    "editable": true
   },
   "outputs": [],
   "source": [
    "# can take up to two minutes, considering overhead required to spin up the instance\n",
    "test_workflow.wait_until_complete(timeout=120, delay=5)"
   ]
  },
  {
   "cell_type": "markdown",
   "metadata": {
    "deletable": true,
    "editable": true
   },
   "source": [
    "We can display the logs for the successful run. Unfortunately cromwell doesn't consider our monitoring script a log, so we need to get the workflow root. "
   ]
  },
  {
   "cell_type": "code",
   "execution_count": 42,
   "metadata": {
    "collapsed": false,
    "deletable": true,
    "editable": true
   },
   "outputs": [
    {
     "name": "stdout",
     "output_type": "stream",
     "text": [
      "GET Request: http://localhost:6361/api/workflows/v1/7e940c5a-ed9c-4558-84ea-fbc83387b682/logs\n",
      "Response: 200\n",
      "Response Content:\n",
      "{\n",
      "  \"calls\": {\n",
      "    \"Sleep.SleepAWhile\": [\n",
      "      {\n",
      "        \"stdout\": \"gs://broad-dsde-mint-dev-cromwell-execution/Sleep/7e940c5a-ed9c-4558-84ea-fbc83387b682/call-SleepAWhile/SleepAWhile-stdout.log\",\n",
      "        \"shardIndex\": -1,\n",
      "        \"stderr\": \"gs://broad-dsde-mint-dev-cromwell-execution/Sleep/7e940c5a-ed9c-4558-84ea-fbc83387b682/call-SleepAWhile/SleepAWhile-stderr.log\",\n",
      "        \"attempt\": 1,\n",
      "        \"backendLogs\": {\n",
      "          \"log\": \"gs://broad-dsde-mint-dev-cromwell-execution/Sleep/7e940c5a-ed9c-4558-84ea-fbc83387b682/call-SleepAWhile/SleepAWhile.log\"\n",
      "        }\n",
      "      }\n",
      "    ]\n",
      "  },\n",
      "  \"id\": \"7e940c5a-ed9c-4558-84ea-fbc83387b682\"\n",
      "}\n"
     ]
    },
    {
     "data": {
      "text/plain": [
       "<Response [200]>"
      ]
     },
     "execution_count": 42,
     "metadata": {},
     "output_type": "execute_result"
    }
   ],
   "source": [
    "cromwell.logs(test_workflow.id, verbose=True)"
   ]
  },
  {
   "cell_type": "markdown",
   "metadata": {
    "deletable": true,
    "editable": true
   },
   "source": [
    "We can use an accessory class `GSObject` to easily download any of the above logs and take a look through them. In this case our run succeeded so they `stdout` and `stderr` are pretty boring. We'll get the backend log"
   ]
  },
  {
   "cell_type": "code",
   "execution_count": 43,
   "metadata": {
    "collapsed": true,
    "deletable": true,
    "editable": true
   },
   "outputs": [],
   "source": [
    "# sleepy_run_log = cromwell.logs(test_workflow.id)[<indexers>]  # also works!\n",
    "sleepy_run_log = test_workflow.logs['calls']['Sleep.SleepAWhile'][0]['backendLogs']['log']"
   ]
  },
  {
   "cell_type": "code",
   "execution_count": 44,
   "metadata": {
    "collapsed": false,
    "deletable": true,
    "editable": true
   },
   "outputs": [
    {
     "name": "stdout",
     "output_type": "stream",
     "text": [
      "2017/10/13 23:03:44 I: Switching to status: pulling-image\n",
      "2017/10/13 23:03:44 I: Calling SetOperationStatus(pulling-image)\n",
      "2017/10/13 23:03:44 I: SetOperationStatus(pulling-image) succeeded\n",
      "2017/10/13 23:03:44 I: Pulling image \"ubuntu@sha256:da2fd4e2e10e0ab991f251353a2d3e32d38c75a83a917dbca0a307efd8730f49\"\n",
      "2017/10/13 23:03:59 I: Pulled image \"ubuntu@sha256:da2fd4e2e10e0ab991f251353a2d3e32d38c75a83a917dbca0a307efd8730f49\" successfully.\n",
      "2017/10/13 23:03:59 I: Switching to status: localizing-files\n",
      "2017/10/13 23:03:59 I: Calling SetOperationStatus(localizing-files)\n",
      "2017/10/13 23:03:59 I: SetOperationStatus(localizing-files) succeeded\n",
      "2017/10/13 23:03:59 I: Docker file /cromwell_root/monitoring.sh maps to host location /mnt/local-disk/monitoring.sh.\n",
      "2017/10/13 23:03:59 I: Running command: sudo gsutil -q -m cp gs://broad-dsde-mint-dev-teststorage/10x/benchmark/scripts/monitor.sh /mnt/local-disk/monitoring.sh\n",
      "2017/10/13 23:04:01 I: Docker file /cromwell_root/exec.sh maps to host location /mnt/local-disk/exec.sh.\n",
      "2017/10/13 23:04:01 I: Running command: sudo gsutil -q -m cp gs://broad-dsde-mint-dev-cromwell-execution/Sleep/7e940c5a-ed9c-4558-84ea-fbc83387b682/call-SleepAWhile/exec.sh /mnt/local-disk/exec.sh\n",
      "2017/10/13 23:04:02 I: Done copying files.\n",
      "2017/10/13 23:04:02 I: Switching to status: running-docker\n",
      "2017/10/13 23:04:02 I: Calling SetOperationStatus(running-docker)\n",
      "2017/10/13 23:04:02 I: SetOperationStatus(running-docker) succeeded\n",
      "2017/10/13 23:04:02 I: Setting these data volumes on the docker container: [-v /tmp/ggp-244940792:/tmp/ggp-244940792 -v /mnt/local-disk:/cromwell_root]\n",
      "2017/10/13 23:04:02 I: Running command: docker run -v /tmp/ggp-244940792:/tmp/ggp-244940792 -v /mnt/local-disk:/cromwell_root -e exec=/cromwell_root/exec.sh -e SleepAWhile-rc.txt=/cromwell_root/SleepAWhile-rc.txt -e monitoring-out=/cromwell_root/monitoring.log -e monitoring-in=/cromwell_root/monitoring.sh ubuntu@sha256:da2fd4e2e10e0ab991f251353a2d3e32d38c75a83a917dbca0a307efd8730f49 /tmp/ggp-244940792\n",
      "2017/10/13 23:04:17 I: Switching to status: delocalizing-files\n",
      "2017/10/13 23:04:17 I: Calling SetOperationStatus(delocalizing-files)\n",
      "2017/10/13 23:04:17 I: SetOperationStatus(delocalizing-files) succeeded\n",
      "2017/10/13 23:04:17 I: Docker file /cromwell_root/monitoring.log maps to host location /mnt/local-disk/monitoring.log.\n",
      "2017/10/13 23:04:17 I: Running command: sudo gsutil -q -m cp -L /var/log/google-genomics/out.log /mnt/local-disk/monitoring.log gs://broad-dsde-mint-dev-cromwell-execution/Sleep/7e940c5a-ed9c-4558-84ea-fbc83387b682/call-SleepAWhile/monitoring.log\n",
      "2017/10/13 23:04:18 I: Deleting log file\n",
      "2017/10/13 23:04:18 I: Running command: sudo rm -f /var/log/google-genomics/out.log\n",
      "2017/10/13 23:04:18 I: Switching to status: copied 1 file(s) to \"gs://broad-dsde-mint-dev-cromwell-execution/Sleep/7e940c5a-ed9c-4558-84ea-fbc83387b682/call-SleepAWhile/monitoring.log\"\n",
      "2017/10/13 23:04:18 I: Calling SetOperationStatus(copied 1 file(s) to \"gs://broad-dsde-mint-dev-cromwell-execution/Sleep/7e940c5a-ed9c-4558-84ea-fbc83387b682/call-SleepAWhile/monitoring.log\")\n",
      "2017/10/13 23:04:18 I: SetOperationStatus(copied 1 file(s) to \"gs://broad-dsde-mint-dev-cromwell-execution/Sleep/7e940c5a-ed9c-4558-84ea-fbc83387b682/call-SleepAWhile/monitoring.log\") succeeded\n",
      "2017/10/13 23:04:18 I: Docker file /cromwell_root/SleepAWhile-rc.txt maps to host location /mnt/local-disk/SleepAWhile-rc.txt.\n",
      "2017/10/13 23:04:18 I: Running command: sudo gsutil -q -m cp -L /var/log/google-genomics/out.log /mnt/local-disk/SleepAWhile-rc.txt gs://broad-dsde-mint-dev-cromwell-execution/Sleep/7e940c5a-ed9c-4558-84ea-fbc83387b682/call-SleepAWhile/SleepAWhile-rc.txt\n",
      "2017/10/13 23:04:19 I: Deleting log file\n",
      "2017/10/13 23:04:19 I: Running command: sudo rm -f /var/log/google-genomics/out.log\n",
      "2017/10/13 23:04:19 I: Switching to status: copied 1 file(s) to \"gs://broad-dsde-mint-dev-cromwell-execution/Sleep/7e940c5a-ed9c-4558-84ea-fbc83387b682/call-SleepAWhile/SleepAWhile-rc.txt\"\n",
      "2017/10/13 23:04:19 I: Calling SetOperationStatus(copied 1 file(s) to \"gs://broad-dsde-mint-dev-cromwell-execution/Sleep/7e940c5a-ed9c-4558-84ea-fbc83387b682/call-SleepAWhile/SleepAWhile-rc.txt\")\n",
      "2017/10/13 23:04:19 I: SetOperationStatus(copied 1 file(s) to \"gs://broad-dsde-mint-dev-cromwell-execution/Sleep/7e940c5a-ed9c-4558-84ea-fbc83387b682/call-SleepAWhile/SleepAWhile-rc.txt\") succeeded\n",
      "2017/10/13 23:04:19 I: Done copying files.\n",
      "\n"
     ]
    }
   ],
   "source": [
    "gs_log = cwm.io_util.GSObject(sleepy_run_log, client=client)\n",
    "log_data = gs_log.download_as_string()\n",
    "print(log_data)"
   ]
  },
  {
   "cell_type": "markdown",
   "metadata": {
    "deletable": true,
    "editable": true
   },
   "source": [
    "The above log shows an example of what goes on in a normal cromwell Task. Now we'll look at the resource utilization for our run. Another way to access files is through the workflow root for the cromwell run. This is recorded by the run metadata, but is also accessible from a property for easy access. `inputs`, `outputs`, `logs`, `root`, `metadata`, and `status` are all available in this fashion."
   ]
  },
  {
   "cell_type": "code",
   "execution_count": 45,
   "metadata": {
    "collapsed": false,
    "deletable": true,
    "editable": true
   },
   "outputs": [
    {
     "name": "stdout",
     "output_type": "stream",
     "text": [
      "gs://broad-dsde-mint-dev-cromwell-execution/Sleep/7e940c5a-ed9c-4558-84ea-fbc83387b682/\n",
      "gs://broad-dsde-mint-dev-cromwell-execution/Sleep/7e940c5a-ed9c-4558-84ea-fbc83387b682/call-SleepAWhile/monitoring.log\n"
     ]
    }
   ],
   "source": [
    "# our call was called SleepAWhile; we can get the file from google storage. \n",
    "log_filename = test_workflow.root + 'call-SleepAWhile/monitoring.log'\n",
    "print(test_workflow.root)\n",
    "print(log_filename)"
   ]
  },
  {
   "cell_type": "markdown",
   "metadata": {
    "deletable": true,
    "editable": true
   },
   "source": [
    "Download and print the monitoring log. "
   ]
  },
  {
   "cell_type": "code",
   "execution_count": 46,
   "metadata": {
    "collapsed": false,
    "deletable": true,
    "editable": true
   },
   "outputs": [
    {
     "name": "stdout",
     "output_type": "stream",
     "text": [
      "--- General Information ---\n",
      "#CPU: 1\n",
      "Total Memory (MB): 1700\n",
      "Total Disk space (KB): 10190136\n",
      "\n",
      "--- Runtime Information ---\n",
      "* Memory usage (%): 7.53%\n",
      "* Memory usage (MB): 128\n",
      "* Disk usage (%): 0.23%\n",
      "* Disk usage (KB): 23044\n",
      "* Memory usage (%): 7.59%\n",
      "* Memory usage (MB): 128\n",
      "* Disk usage (%): 0.23%\n",
      "* Disk usage (KB): 23044\n",
      "* Memory usage (%): 7.53%\n",
      "* Memory usage (MB): 128\n",
      "* Disk usage (%): 0.23%\n",
      "* Disk usage (KB): 23044\n",
      "\n"
     ]
    }
   ],
   "source": [
    "gs_monitoring = cwm.io_util.GSObject(log_filename, client=client)\n",
    "log_data = gs_monitoring.download_as_string()\n",
    "print(log_data)"
   ]
  },
  {
   "cell_type": "markdown",
   "metadata": {
    "deletable": true,
    "editable": true
   },
   "source": [
    "This information is automatically parsed by the `Task` object and stored in a `ResourceUtilization` object, which is created when you call `tasks()` on a workflow. "
   ]
  },
  {
   "cell_type": "code",
   "execution_count": 47,
   "metadata": {
    "collapsed": false,
    "deletable": true,
    "editable": true
   },
   "outputs": [
    {
     "name": "stdout",
     "output_type": "stream",
     "text": [
      "Sleep.SleepAWhile\n",
      "SleepAWhile Monitoring Summary:\n",
      "Max Memory Usage (MB): 128\n",
      "Available Memory (MB): 1700\n",
      "Max disk usage   (KB): 23044\n",
      "Available disk   (KB): 10190136\n",
      "Disk Utilized     (%): 0.002\n",
      "Memory Utilized   (%): 0.075\n",
      "Robust Estimate?     : True\n",
      "\n"
     ]
    }
   ],
   "source": [
    "for name, task in test_workflow.tasks().items():\n",
    "    print(name)\n",
    "    print(task.resource_utilization)"
   ]
  },
  {
   "cell_type": "markdown",
   "metadata": {
    "deletable": true,
    "editable": true
   },
   "source": [
    "This information can be saved to a file for later analysis. Below I create a tempfile to avoid polluting the filesystem of those running this demo, and print the contents to prove the save worked. However, one could easily pass an open file or a string filename. "
   ]
  },
  {
   "cell_type": "code",
   "execution_count": 48,
   "metadata": {
    "collapsed": false,
    "deletable": true,
    "editable": true
   },
   "outputs": [
    {
     "name": "stdout",
     "output_type": "stream",
     "text": [
      "SleepAWhile Monitoring Summary:\n",
      "Max Memory Usage (MB): 128\n",
      "Available Memory (MB): 1700\n",
      "Max disk usage   (KB): 23044\n",
      "Available disk   (KB): 10190136\n",
      "Disk Utilized     (%): 0.002\n",
      "Memory Utilized   (%): 0.075\n",
      "Robust Estimate?     : True\n",
      "\n"
     ]
    }
   ],
   "source": [
    "import tempfile\n",
    "tf = tempfile.TemporaryFile(mode='w+')\n",
    "test_workflow.save_resource_utilization(tf)\n",
    "tf.seek(0); print(tf.read()); tf.close()"
   ]
  },
  {
   "cell_type": "markdown",
   "metadata": {
    "deletable": true,
    "editable": true
   },
   "source": [
    "## Interact with previously completed workflows"
   ]
  },
  {
   "cell_type": "markdown",
   "metadata": {
    "deletable": true,
    "editable": true
   },
   "source": [
    "Earlier it was stated that there are two `Workflow` constructors. Lets use some of the other cromwell functionality to show how that other constructor works. First, lets find our workflow using cromwell's query syntax. "
   ]
  },
  {
   "cell_type": "code",
   "execution_count": 49,
   "metadata": {
    "collapsed": false,
    "deletable": true,
    "editable": true
   },
   "outputs": [
    {
     "name": "stdout",
     "output_type": "stream",
     "text": [
      "GET Request: http://localhost:6361/api/workflows/v1/query?name=Sleep&status=Succeeded\n",
      "Response: 200\n",
      "Response Content:\n",
      "{\n",
      "  \"results\": [\n",
      "    {\n",
      "      \"name\": \"Sleep\",\n",
      "      \"id\": \"7e940c5a-ed9c-4558-84ea-fbc83387b682\",\n",
      "      \"status\": \"Succeeded\",\n",
      "      \"end\": \"2017-10-13T19:04:29.405-04:00\",\n",
      "      \"start\": \"2017-10-13T19:02:59.057-04:00\"\n",
      "    }\n",
      "  ]\n",
      "}\n"
     ]
    },
    {
     "data": {
      "text/plain": [
       "<Response [200]>"
      ]
     },
     "execution_count": 49,
     "metadata": {},
     "output_type": "execute_result"
    }
   ],
   "source": [
    "cromwell.query(status=['Succeeded'], names=['Sleep'], verbose=True)"
   ]
  },
  {
   "cell_type": "markdown",
   "metadata": {
    "deletable": true,
    "editable": true
   },
   "source": [
    "Here I've run a couple, but the last one is the one we're looking for, which was run today. \n",
    "\n",
    "Below we use the other constructor to create a `Workflow` from a run_id object. "
   ]
  },
  {
   "cell_type": "code",
   "execution_count": 51,
   "metadata": {
    "collapsed": false,
    "deletable": true,
    "editable": true
   },
   "outputs": [
    {
     "data": {
      "text/plain": [
       "{'id': '7e940c5a-ed9c-4558-84ea-fbc83387b682', 'status': 'Succeeded'}"
      ]
     },
     "execution_count": 51,
     "metadata": {},
     "output_type": "execute_result"
    }
   ],
   "source": [
    "workflow_id = cromwell.query(status=['Succeeded'], names=['Sleep']).json()['results'][-1]['id']\n",
    "duplicate_workflow = cwm.Workflow(workflow_id=workflow_id, cromwell_server=cromwell, storage_client=client)\n",
    "duplicate_workflow.status  # same as above. "
   ]
  },
  {
   "cell_type": "markdown",
   "metadata": {
    "deletable": true,
    "editable": true
   },
   "source": [
    "We can also look at the timing diagram, which for this workflow is boring (will open in another window)"
   ]
  },
  {
   "cell_type": "code",
   "execution_count": 52,
   "metadata": {
    "collapsed": false,
    "deletable": true,
    "editable": true
   },
   "outputs": [],
   "source": [
    "duplicate_workflow.timing()"
   ]
  },
  {
   "cell_type": "markdown",
   "metadata": {
    "deletable": true,
    "editable": true
   },
   "source": [
    "## Other miscellaneous functionality"
   ]
  },
  {
   "cell_type": "markdown",
   "metadata": {
    "deletable": true,
    "editable": true
   },
   "source": [
    "Display cromwell backends:"
   ]
  },
  {
   "cell_type": "code",
   "execution_count": 53,
   "metadata": {
    "collapsed": false,
    "deletable": true,
    "editable": true
   },
   "outputs": [
    {
     "name": "stdout",
     "output_type": "stream",
     "text": [
      "GET Request: http://localhost:6361/api/workflows/v1/backends\n",
      "Response: 200\n",
      "Response Content:\n",
      "{\n",
      "  \"supportedBackends\": [\n",
      "    \"JES\",\n",
      "    \"Local\",\n",
      "    \"SGE\"\n",
      "  ],\n",
      "  \"defaultBackend\": \"JES\"\n",
      "}\n"
     ]
    }
   ],
   "source": [
    "response = cromwell.backends(verbose=True)"
   ]
  },
  {
   "cell_type": "markdown",
   "metadata": {
    "deletable": true,
    "editable": true
   },
   "source": [
    "Display run outputs (note: our task doesn't have any!)"
   ]
  },
  {
   "cell_type": "code",
   "execution_count": 54,
   "metadata": {
    "collapsed": false,
    "deletable": true,
    "editable": true
   },
   "outputs": [
    {
     "name": "stdout",
     "output_type": "stream",
     "text": [
      "GET Request: http://localhost:6361/api/workflows/v1/7e940c5a-ed9c-4558-84ea-fbc83387b682/outputs\n",
      "Response: 200\n",
      "Response Content:\n",
      "{\n",
      "  \"outputs\": {},\n",
      "  \"id\": \"7e940c5a-ed9c-4558-84ea-fbc83387b682\"\n",
      "}\n"
     ]
    }
   ],
   "source": [
    "outputs = cromwell.outputs(test_workflow.id, verbose=True)"
   ]
  },
  {
   "cell_type": "markdown",
   "metadata": {
    "deletable": true,
    "editable": true
   },
   "source": [
    "Abort a workflow (this will fail, since our workflow is already complete!)"
   ]
  },
  {
   "cell_type": "code",
   "execution_count": 55,
   "metadata": {
    "collapsed": false,
    "deletable": true,
    "editable": true
   },
   "outputs": [
    {
     "data": {
      "text/plain": [
       "{'message': \"Couldn't abort 7e940c5a-ed9c-4558-84ea-fbc83387b682 because no workflow with that ID is in progress\",\n",
       " 'status': 'error'}"
      ]
     },
     "execution_count": 55,
     "metadata": {},
     "output_type": "execute_result"
    }
   ],
   "source": [
    "test_workflow.abort()"
   ]
  },
  {
   "cell_type": "markdown",
   "metadata": {
    "deletable": true,
    "editable": true
   },
   "source": [
    "Finally, open the swagger API for your instance:"
   ]
  },
  {
   "cell_type": "code",
   "execution_count": 56,
   "metadata": {
    "collapsed": true,
    "deletable": true,
    "editable": true
   },
   "outputs": [],
   "source": [
    "cromwell.swagger()"
   ]
  }
 ],
 "metadata": {
  "hide_input": false,
  "kernelspec": {
   "display_name": "Python 3",
   "language": "python",
   "name": "python3"
  },
  "language_info": {
   "codemirror_mode": {
    "name": "ipython",
    "version": 3
   },
   "file_extension": ".py",
   "mimetype": "text/x-python",
   "name": "python",
   "nbconvert_exporter": "python",
   "pygments_lexer": "ipython3",
   "version": "3.6.0"
  },
  "toc": {
   "nav_menu": {},
   "number_sections": true,
   "sideBar": true,
   "skip_h1_title": false,
   "toc_cell": false,
   "toc_position": {},
   "toc_section_display": "block",
   "toc_window_display": true
  }
 },
 "nbformat": 4,
 "nbformat_minor": 2
}
